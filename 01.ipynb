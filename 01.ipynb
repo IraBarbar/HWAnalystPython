{
 "cells": [
  {
   "attachments": {},
   "cell_type": "markdown",
   "metadata": {},
   "source": [
    "<h1 style=\"color: orange;\">Условие 2:</h1>"
   ]
  },
  {
   "attachments": {},
   "cell_type": "markdown",
   "metadata": {},
   "source": [
    "На складе лежат разные фрукты в разном количестве.\n",
    "Нужно написать функцию, которая на вход принимает любое количество названий фруктов и их количество, а возвращает общее количество фруктов на складе"
   ]
  },
  {
   "cell_type": "code",
   "execution_count": null,
   "metadata": {},
   "outputs": [],
   "source": [
    "\n",
    "def fruit(dict1: dict):\n",
    "    res = 0\n",
    "    for i in dict1.values():\n",
    "        if isinstance(i, (int, float)):\n",
    "            res += i\n",
    "    print(f'Total fruit: {res} kg.')\n",
    "\n",
    "fruit({'apple': 5, 'pear': 6, 'apricot' : 20.2})\n"
   ]
  },
  {
   "attachments": {},
   "cell_type": "markdown",
   "metadata": {},
   "source": [
    "<h1 style=\"color: orange;\">Условие 3:</h1>"
   ]
  },
  {
   "cell_type": "markdown",
   "metadata": {},
   "source": [
    "Дан список с затратами на рекламу. Но в данных есть ошибки, некоторые затраты имеют отрицательную величину. Удалите такие значения из списка и посчитайте суммарные затраты\n",
    "[100, 125, -90, 345, 655, -1, 0, 200]\n",
    "Используйте list comprehensions"
   ]
  },
  {
   "cell_type": "code",
   "execution_count": 9,
   "metadata": {},
   "outputs": [
    {
     "name": "stdout",
     "output_type": "stream",
     "text": [
      "[100, 125, 345, 655, 0, 200]\n",
      "Totol costs: 1425\n"
     ]
    }
   ],
   "source": [
    "costs = [100, 125, -90, 345, 655, -1, 0, 200]\n",
    "verified_costs = [i for i in costs if i >= 0 ]\n",
    "print(verified_costs)\n",
    "print(f'Totol costs: {sum(verified_costs)} rub.')"
   ]
  }
 ],
 "metadata": {
  "kernelspec": {
   "display_name": ".venv",
   "language": "python",
   "name": "python3"
  },
  "language_info": {
   "codemirror_mode": {
    "name": "ipython",
    "version": 3
   },
   "file_extension": ".py",
   "mimetype": "text/x-python",
   "name": "python",
   "nbconvert_exporter": "python",
   "pygments_lexer": "ipython3",
   "version": "3.11.1"
  },
  "orig_nbformat": 4
 },
 "nbformat": 4,
 "nbformat_minor": 2
}
